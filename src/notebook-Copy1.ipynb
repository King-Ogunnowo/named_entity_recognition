{
 "cells": [
  {
   "cell_type": "code",
   "execution_count": 63,
   "id": "fae9b726-d7d9-4e3e-8166-d84cee711769",
   "metadata": {},
   "outputs": [
    {
     "name": "stdout",
     "output_type": "stream",
     "text": [
      "1/1 [==============================] - 0s 74ms/step\n"
     ]
    }
   ],
   "source": [
    "import re\n",
    "import spacy\n",
    "import pickle\n",
    "import warnings\n",
    "import numpy as np\n",
    "import contractions\n",
    "\n",
    "from spacy.tokens import Span\n",
    "from spacy import displacy\n",
    "from tensorflow.keras.models import load_model\n",
    "from sentence_transformers import SentenceTransformer\n",
    "\n",
    "from IPython.core.display import display, HTML\n",
    "from IPython.display import Markdown\n",
    "\n",
    "warnings.filterwarnings('ignore')\n",
    "nlp = spacy.load(\"en_core_web_sm\")\n",
    "\n",
    "def load_artifacts():\n",
    "    one_hot_encoder = pickle.load(open(\"../models/one_hot_encoder.pkl\", 'rb'))\n",
    "    NER_model = load_model('../models/NER_tensorflow_3_input_model/')\n",
    "    label_encoder = pickle.load(open(\"../models/label_encoder.pkl\", 'rb'))\n",
    "    embedding_model = SentenceTransformer(\"intfloat/multilingual-e5-base\")\n",
    "    return one_hot_encoder, NER_model, embedding_model, label_encoder\n",
    "\n",
    "one_hot_encoder, NER_model, embedding_model, label_encoder = load_artifacts()\n",
    "\n",
    "def clean_text(text):\n",
    "    text = ' '.join([contractions.fix(word) for word in text.split()])\n",
    "    text = re.sub(\"[^a-zA-Z0-9 ]\", \"\", text)\n",
    "    return text      \n",
    "\n",
    "def fetch_pos_tag(text):\n",
    "    tags = np.array([token.tag_ for token in nlp(text)]).reshape(-1, 1)\n",
    "    return tags\n",
    "\n",
    "def generate_vectors(text):\n",
    "    tokens = text.split()\n",
    "    token_embeddings = np.array([embedding_model.encode(token) for token in tokens])\n",
    "    sentence_embeddings = np.array([embedding_model.encode(text) for token in tokens])\n",
    "    return token_embeddings, sentence_embeddings\n",
    "\n",
    "def markdown_highlight_with_labels(text, tags):\n",
    "    \"\"\"\n",
    "    Highlights text using BIO tags and displays the entity label alongside the token.\n",
    "    \"\"\"\n",
    "    # Define entity colors\n",
    "    colors = {\n",
    "        \"per\": \"#a781f9\",    # Person entities\n",
    "        \"tim\": \"#e59edb\",    # Time entities\n",
    "        \"gpe\": \"#faa419\",    # Geopolitical entities\n",
    "        \"geo\": \"#80e5d9\",    # Geographical entities\n",
    "        \"org\": \"#4ea8de\",    # Organizations\n",
    "        \"art\": \"#d3c8a8\",    # Art entities\n",
    "        \"nat\": \"#81c784\",    # Natural entities\n",
    "        \"eve\": \"#ffb74d\",\n",
    "        \"O\": \"#e0e0e0\"# Event entities\n",
    "    }\n",
    "    \n",
    "    tokens = text.split()\n",
    "    markdown_text = \"\"\n",
    "\n",
    "    for token, tag in zip(tokens, tags):\n",
    "        if tag.startswith(\"B-\") or tag.startswith(\"I-\"):\n",
    "            entity_type = tag.split(\"-\")[1]  # Extract the entity type (e.g., \"per\", \"gpe\")\n",
    "            color = colors.get(entity_type.lower(), \"gray\")\n",
    "            markdown_text += f\"\"\"\n",
    "            <span style='background-color:{color}; padding:2px; border-radius:3px;'>{\n",
    "                token\n",
    "            } <sub style='color:white; font-size:0.7em;'>[{entity_type.upper()}]</sub></span>\"\"\"\n",
    "        else:\n",
    "            markdown_text += f\"{token} \"\n",
    "\n",
    "    return Markdown(markdown_text.strip())\n",
    "\n",
    "    \n",
    "def main(text):\n",
    "    cleaned_text = clean_text(text)\n",
    "    token_embedding, sentence_embedding = generate_vectors(cleaned_text)\n",
    "    pos_tags = one_hot_encoder.transform(fetch_pos_tag(cleaned_text)).toarray()\n",
    "    prediction = label_encoder.inverse_transform(np.argmax(NER_model.predict([token_embedding, pos_tags, sentence_embedding]), axis = 1))\n",
    "    output = {\n",
    "        k:v for k, v in zip(cleaned_text.split(), prediction)\n",
    "    }\n",
    "    return markdown_highlight_with_labels(cleaned_text, prediction)\n",
    "\n",
    "p = main(text = \"\"\"Hello, my name is Oluwaseyi Ogunnowo, what is yours?\"\"\")"
   ]
  },
  {
   "cell_type": "code",
   "execution_count": 4,
   "id": "e903b034-574e-4b9a-ad2e-92a5438edd20",
   "metadata": {},
   "outputs": [
    {
     "data": {
      "text/markdown": [
       "My name is <span style='background-color:#a781f9; padding:2px; border-radius:3px;'>Oluwaseyi <sub style='color:white; font-size:0.7em;'>[PER]</sub></span> <span style='background-color:#a781f9; padding:2px; border-radius:3px;'>Ogunnowo <sub style='color:white; font-size:0.7em;'>[PER]</sub></span> and I live <span style='background-color:#faa419; padding:2px; border-radius:3px;'>in <sub style='color:white; font-size:0.7em;'>[GPE]</sub></span>"
      ],
      "text/plain": [
       "<IPython.core.display.Markdown object>"
      ]
     },
     "execution_count": 4,
     "metadata": {},
     "output_type": "execute_result"
    }
   ],
   "source": [
    "from IPython.display import Markdown\n",
    "\n",
    "def markdown_highlight_with_labels(text, tags):\n",
    "    \"\"\"\n",
    "    Highlights text using BIO tags and displays the entity label alongside the token.\n",
    "    \"\"\"\n",
    "    # Define entity colors\n",
    "    colors = {\n",
    "        \"per\": \"#a781f9\",    # Person entities\n",
    "        \"tim\": \"#e59edb\",    # Time entities\n",
    "        \"gpe\": \"#faa419\",    # Geopolitical entities\n",
    "        \"geo\": \"#80e5d9\",    # Geographical entities\n",
    "        \"org\": \"#4ea8de\",    # Organizations\n",
    "        \"art\": \"#d3c8a8\",    # Art entities\n",
    "        \"nat\": \"#81c784\",    # Natural entities\n",
    "        \"eve\": \"#ffb74d\",    # Event entities\n",
    "    }\n",
    "    \n",
    "    tokens = text.split()\n",
    "    markdown_text = \"\"\n",
    "\n",
    "    for token, tag in zip(tokens, tags):\n",
    "        if tag.startswith(\"B-\") or tag.startswith(\"I-\"):\n",
    "            entity_type = tag.split(\"-\")[1]  # Extract the entity type (e.g., \"per\", \"gpe\")\n",
    "            color = colors.get(entity_type.lower(), \"gray\")\n",
    "            # Highlight token and append entity label in brackets\n",
    "            markdown_text += f\"<span style='background-color:{color}; padding:2px; border-radius:3px;'>{token} <sub style='color:white; font-size:0.7em;'>[{entity_type.upper()}]</sub></span> \"\n",
    "        else:\n",
    "            markdown_text += f\"{token} \"\n",
    "\n",
    "    return Markdown(markdown_text.strip())\n",
    "\n",
    "# Example Input\n",
    "text = \"My name is Oluwaseyi Ogunnowo and I live in Lagos\"\n",
    "tags = ['O', 'O', 'O', 'B-per', 'I-per', 'O', 'O', 'O', 'B-gpe']\n",
    "\n",
    "# Highlight the text and show labels\n",
    "markdown_highlight_with_labels(text, tags)\n"
   ]
  },
  {
   "cell_type": "code",
   "execution_count": 64,
   "id": "e1af7260-681c-4414-a703-15abdab44535",
   "metadata": {},
   "outputs": [
    {
     "data": {
      "text/markdown": [
       "Hello my name is \n",
       "            <span style='background-color:#a781f9; padding:2px; border-radius:3px;'>Oluwaseyi <sub style='color:white; font-size:0.7em;'>[PER]</sub></span>\n",
       "            <span style='background-color:#a781f9; padding:2px; border-radius:3px;'>Ogunnowo <sub style='color:white; font-size:0.7em;'>[PER]</sub></span>what is yours"
      ],
      "text/plain": [
       "<IPython.core.display.Markdown object>"
      ]
     },
     "execution_count": 64,
     "metadata": {},
     "output_type": "execute_result"
    }
   ],
   "source": [
    "p"
   ]
  },
  {
   "cell_type": "code",
   "execution_count": null,
   "id": "da08b150-ebe5-4c9a-a951-7a78b176da4f",
   "metadata": {},
   "outputs": [],
   "source": []
  },
  {
   "cell_type": "code",
   "execution_count": null,
   "id": "b5fba178-7624-44c6-880a-269a1f10913b",
   "metadata": {},
   "outputs": [],
   "source": []
  },
  {
   "cell_type": "code",
   "execution_count": null,
   "id": "130c2b2a-108b-4bbf-a9b9-2afa8fa7e968",
   "metadata": {},
   "outputs": [],
   "source": []
  },
  {
   "cell_type": "code",
   "execution_count": null,
   "id": "45470cad-edbd-49f9-a1b4-1de3d86cdb02",
   "metadata": {},
   "outputs": [],
   "source": []
  },
  {
   "cell_type": "code",
   "execution_count": null,
   "id": "b361770b-3fb7-411d-a963-7994f89f5738",
   "metadata": {},
   "outputs": [],
   "source": []
  },
  {
   "cell_type": "code",
   "execution_count": null,
   "id": "9470e912-ff0a-49ef-bbad-201858dd1aee",
   "metadata": {},
   "outputs": [],
   "source": []
  },
  {
   "cell_type": "code",
   "execution_count": null,
   "id": "f477ce8f-cbf7-4584-ab5a-4a11d1fea03e",
   "metadata": {},
   "outputs": [],
   "source": []
  },
  {
   "cell_type": "code",
   "execution_count": null,
   "id": "44eefe14-bd31-4c17-956b-9c32869652a7",
   "metadata": {},
   "outputs": [],
   "source": []
  }
 ],
 "metadata": {
  "kernelspec": {
   "display_name": "Python 3 (ipykernel)",
   "language": "python",
   "name": "python3"
  },
  "language_info": {
   "codemirror_mode": {
    "name": "ipython",
    "version": 3
   },
   "file_extension": ".py",
   "mimetype": "text/x-python",
   "name": "python",
   "nbconvert_exporter": "python",
   "pygments_lexer": "ipython3",
   "version": "3.10.10"
  }
 },
 "nbformat": 4,
 "nbformat_minor": 5
}
